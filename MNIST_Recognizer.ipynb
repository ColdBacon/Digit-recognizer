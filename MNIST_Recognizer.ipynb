{
 "cells": [
  {
   "cell_type": "code",
   "execution_count": 1,
   "metadata": {},
   "outputs": [],
   "source": [
    "import numpy as np\n",
    "import tensorflow as tf\n",
    "from tensorflow import keras\n",
    "from tensorflow.keras import layers\n",
    "import matplotlib.pyplot as plt\n",
    "\n",
    "from sklearn.model_selection import train_test_split\n",
    "import tensorflow as tf\n",
    "from sklearn.metrics import f1_score,roc_curve,auc\n",
    "physical_devices = tf.config.list_physical_devices('GPU') \n",
    "tf.config.experimental.set_memory_growth(physical_devices[0], True)"
   ]
  },
  {
   "cell_type": "markdown",
   "metadata": {},
   "source": [
    "### Load the dataset"
   ]
  },
  {
   "cell_type": "code",
   "execution_count": 55,
   "metadata": {},
   "outputs": [],
   "source": [
    "(x_train, y_train), (x_test, y_test) = keras.datasets.mnist.load_data()"
   ]
  },
  {
   "cell_type": "code",
   "execution_count": 56,
   "metadata": {},
   "outputs": [
    {
     "name": "stdout",
     "output_type": "stream",
     "text": [
      "(60000, 28, 28)\n",
      "(60000,)\n",
      "(10000, 28, 28)\n",
      "(10000,)\n"
     ]
    }
   ],
   "source": [
    "print(x_train.shape)\n",
    "print(y_train.shape)\n",
    " \n",
    "print(x_test.shape)\n",
    "print(y_test.shape)"
   ]
  },
  {
   "cell_type": "code",
   "execution_count": 57,
   "metadata": {},
   "outputs": [
    {
     "data": {
      "text/plain": [
       "(70000, 28, 28)"
      ]
     },
     "execution_count": 57,
     "metadata": {},
     "output_type": "execute_result"
    }
   ],
   "source": [
    "X = np.concatenate((x_train, x_test))\n",
    "X.shape"
   ]
  },
  {
   "cell_type": "code",
   "execution_count": 58,
   "metadata": {},
   "outputs": [
    {
     "data": {
      "text/plain": [
       "(70000,)"
      ]
     },
     "execution_count": 58,
     "metadata": {},
     "output_type": "execute_result"
    }
   ],
   "source": [
    "y = np.concatenate([y_train, y_test])\n",
    "y.shape"
   ]
  },
  {
   "cell_type": "markdown",
   "metadata": {},
   "source": [
    "### Dividing dataset into a training set (80%), an evaluation set (10%) and a test set (10%)"
   ]
  },
  {
   "cell_type": "code",
   "execution_count": 59,
   "metadata": {},
   "outputs": [],
   "source": [
    "train_ratio = 0.9\n",
    "test_ratio = 0.1\n",
    "\n",
    "# train is now 80% of the entire data set\n",
    "x_train, x_test, y_train, y_test = train_test_split(X, y, test_size = 1 - train_ratio)"
   ]
  },
  {
   "cell_type": "code",
   "execution_count": 60,
   "metadata": {},
   "outputs": [
    {
     "data": {
      "text/plain": [
       "<matplotlib.image.AxesImage at 0x7f84fc42d310>"
      ]
     },
     "execution_count": 60,
     "metadata": {},
     "output_type": "execute_result"
    },
    {
     "data": {
      "image/png": "[encoded data removed]",
      "text/plain": [
       "<Figure size 432x288 with 1 Axes>"
      ]
     },
     "metadata": {
      "needs_background": "light"
     },
     "output_type": "display_data"
    }
   ],
   "source": [
    "plt.imshow(x_train[0], cmap='gray')"
   ]
  },
  {
   "cell_type": "code",
   "execution_count": 66,
   "metadata": {},
   "outputs": [],
   "source": [
    "x_train = x_train.astype(\"float32\") / 255\n",
    "x_test = x_test.astype(\"float32\") / 255\n",
    "\n",
    "\n",
    "# images have shape (28, 28, 1)\n",
    "x_train = np.expand_dims(x_train, -1)\n",
    "x_test = np.expand_dims(x_test, -1)"
   ]
  },
  {
   "cell_type": "code",
   "execution_count": 67,
   "metadata": {},
   "outputs": [],
   "source": [
    "y_train = keras.utils.to_categorical(y_train, 10)\n",
    "y_test = keras.utils.to_categorical(y_test, 10)"
   ]
  },
  {
   "cell_type": "code",
   "execution_count": 68,
   "metadata": {},
   "outputs": [],
   "source": [
    "def predict_model(model, callbacks = [],batch_size=128, epochs = 4):\n",
    "    model.compile(loss=\"categorical_crossentropy\", optimizer=\"adam\", metrics=[\"accuracy\", \"Precision\",\"Recall\"])\n",
    "\n",
    "    history = model.fit(x_train, y_train, batch_size=batch_size, epochs=epochs, validation_split=0.11, callbacks=callbacks)\n",
    "    score = model.evaluate(x_test, y_test, verbose=0)\n",
    "    y_pred = model.predict(x_test)\n",
    "    print(\"Test loss:\", score[0])\n",
    "    print(\"Test accuracy:\", score[1])\n",
    "    print(\"Test precision:\", score[2])\n",
    "    print(\"Test recall:\", score[3])\n",
    "    #print(y_test)\n",
    "    \n",
    "    y_pred = np.argmax(y_pred,axis=1)\n",
    "    #y_pred = keras.utils.to_categorical(y_pred, num_classes)\n",
    "    y_test1 = np.argmax(y_test,axis=1)\n",
    "    \n",
    "    print(\"Test f1 score:\", f1_score(y_test1,y_pred,average='micro'))\n",
    "    for i in range(10):\n",
    "        temp_pred = [1 if x==i else 0 for x in y_pred]\n",
    "        temp_test = [1 if x==i else 0 for x in y_test1]\n",
    "        fpr, tpr, thresholds =roc_curve(temp_test,temp_pred)\n",
    "\n",
    "        print(\"Test AUC for digit:\",i, auc(fpr, tpr))\n",
    "    \n",
    "    # list all data in history\n",
    "    #print(history.history.keys())\n",
    "    # summarize history for accuracy\n",
    "    plt.plot(history.history['accuracy'])\n",
    "    plt.plot(history.history['val_accuracy'])\n",
    "    plt.title('model accuracy')\n",
    "    plt.ylabel('accuracy')\n",
    "    plt.xlabel('epoch')\n",
    "    plt.legend(['train', 'val'], loc='upper left')\n",
    "    plt.show()\n",
    "    # summarize history for loss\n",
    "    plt.plot(history.history['loss'])\n",
    "    plt.plot(history.history['val_loss'])\n",
    "    plt.title('model loss')\n",
    "    plt.ylabel('loss')\n",
    "    plt.xlabel('epoch')\n",
    "    plt.legend(['train', 'val'], loc='upper left')\n",
    "    plt.show()"
   ]
  },
  {
   "cell_type": "code",
   "execution_count": 22,
   "metadata": {},
   "outputs": [],
   "source": [
    "# simple early stopping\n",
    "es = keras.callbacks.EarlyStopping(monitor='val_accuracy', mode='max', verbose=1, patience = 3)"
   ]
  },
  {
   "cell_type": "markdown",
   "metadata": {},
   "source": [
    "### Basic Fully Connected Multi-layer Network"
   ]
  },
  {
   "cell_type": "code",
   "execution_count": 23,
   "metadata": {
    "scrolled": false
   },
   "outputs": [
    {
     "name": "stdout",
     "output_type": "stream",
     "text": [
      "Model: \"sequential_7\"\n",
      "_________________________________________________________________\n",
      "Layer (type)                 Output Shape              Param #   \n",
      "=================================================================\n",
      "dense_23 (Dense)             (None, 28, 28, 32)        64        \n",
      "_________________________________________________________________\n",
      "dense_24 (Dense)             (None, 28, 28, 64)        2112      \n",
      "_________________________________________________________________\n",
      "flatten_4 (Flatten)          (None, 50176)             0         \n",
      "_________________________________________________________________\n",
      "dense_25 (Dense)             (None, 128)               6422656   \n",
      "_________________________________________________________________\n",
      "dropout_4 (Dropout)          (None, 128)               0         \n",
      "_________________________________________________________________\n",
      "dense_26 (Dense)             (None, 10)                1290      \n",
      "=================================================================\n",
      "Total params: 6,426,122\n",
      "Trainable params: 6,426,122\n",
      "Non-trainable params: 0\n",
      "_________________________________________________________________\n",
      "Epoch 1/100\n",
      "439/439 [==============================] - 6s 13ms/step - loss: 0.4856 - accuracy: 0.8557 - precision: 0.9184 - recall: 0.7946 - val_loss: 0.1430 - val_accuracy: 0.9558 - val_precision: 0.9654 - val_recall: 0.9488\n",
      "Epoch 2/100\n",
      "439/439 [==============================] - 5s 12ms/step - loss: 0.1574 - accuracy: 0.9513 - precision: 0.9596 - recall: 0.9447 - val_loss: 0.1136 - val_accuracy: 0.9649 - val_precision: 0.9708 - val_recall: 0.9603\n",
      "Epoch 3/100\n",
      "439/439 [==============================] - 5s 12ms/step - loss: 0.1209 - accuracy: 0.9630 - precision: 0.9700 - recall: 0.9583 - val_loss: 0.1096 - val_accuracy: 0.9678 - val_precision: 0.9732 - val_recall: 0.9654\n",
      "Epoch 4/100\n",
      "439/439 [==============================] - 5s 12ms/step - loss: 0.1036 - accuracy: 0.9672 - precision: 0.9725 - recall: 0.9631 - val_loss: 0.0915 - val_accuracy: 0.9727 - val_precision: 0.9769 - val_recall: 0.9710\n",
      "Epoch 5/100\n",
      "439/439 [==============================] - 5s 12ms/step - loss: 0.0867 - accuracy: 0.9732 - precision: 0.9766 - recall: 0.9705 - val_loss: 0.0934 - val_accuracy: 0.9714 - val_precision: 0.9744 - val_recall: 0.9683\n",
      "Epoch 6/100\n",
      "439/439 [==============================] - 5s 12ms/step - loss: 0.0772 - accuracy: 0.9758 - precision: 0.9791 - recall: 0.9733 - val_loss: 0.0939 - val_accuracy: 0.9736 - val_precision: 0.9769 - val_recall: 0.9716\n",
      "Epoch 7/100\n",
      "439/439 [==============================] - 5s 12ms/step - loss: 0.0742 - accuracy: 0.9766 - precision: 0.9797 - recall: 0.9737 - val_loss: 0.0971 - val_accuracy: 0.9722 - val_precision: 0.9738 - val_recall: 0.9706\n",
      "Epoch 8/100\n",
      "439/439 [==============================] - 5s 12ms/step - loss: 0.0637 - accuracy: 0.9788 - precision: 0.9814 - recall: 0.9763 - val_loss: 0.0879 - val_accuracy: 0.9753 - val_precision: 0.9770 - val_recall: 0.9740\n",
      "Epoch 9/100\n",
      "439/439 [==============================] - 5s 12ms/step - loss: 0.0534 - accuracy: 0.9824 - precision: 0.9841 - recall: 0.9809 - val_loss: 0.0852 - val_accuracy: 0.9750 - val_precision: 0.9778 - val_recall: 0.9730\n",
      "Epoch 10/100\n",
      "439/439 [==============================] - 5s 12ms/step - loss: 0.0655 - accuracy: 0.9786 - precision: 0.9804 - recall: 0.9764 - val_loss: 0.0875 - val_accuracy: 0.9766 - val_precision: 0.9794 - val_recall: 0.9747\n",
      "Epoch 11/100\n",
      "439/439 [==============================] - 5s 12ms/step - loss: 0.0520 - accuracy: 0.9833 - precision: 0.9850 - recall: 0.9819 - val_loss: 0.0903 - val_accuracy: 0.9759 - val_precision: 0.9778 - val_recall: 0.9746\n",
      "Epoch 12/100\n",
      "439/439 [==============================] - 5s 12ms/step - loss: 0.0475 - accuracy: 0.9853 - precision: 0.9867 - recall: 0.9837 - val_loss: 0.0896 - val_accuracy: 0.9756 - val_precision: 0.9777 - val_recall: 0.9746\n",
      "Epoch 13/100\n",
      "439/439 [==============================] - 5s 12ms/step - loss: 0.0456 - accuracy: 0.9843 - precision: 0.9857 - recall: 0.9830 - val_loss: 0.0849 - val_accuracy: 0.9760 - val_precision: 0.9786 - val_recall: 0.9745\n",
      "Epoch 00013: early stopping\n",
      "Test loss: 0.08493050932884216\n",
      "Test accuracy: 0.9765714406967163\n",
      "Test precision: 0.9791935682296753\n",
      "Test recall: 0.9748571515083313\n",
      "Test f1 score: 0.9765714285714285\n",
      "Test AUC for digit: 0 0.9915098292676178\n",
      "Test AUC for digit: 1 0.993858601800657\n",
      "Test AUC for digit: 2 0.9847869355522294\n",
      "Test AUC for digit: 3 0.9840131361352421\n",
      "Test AUC for digit: 4 0.9838674762693336\n",
      "Test AUC for digit: 5 0.9871311786042986\n",
      "Test AUC for digit: 6 0.9945297342444367\n",
      "Test AUC for digit: 7 0.9885337226846768\n",
      "Test AUC for digit: 8 0.9786253181709974\n",
      "Test AUC for digit: 9 0.9819255689001264\n"
     ]
    },
    {
     "data": {
      "image/png": "[encoded data removed]",
      "text/plain": [
       "<Figure size 432x288 with 1 Axes>"
      ]
     },
     "metadata": {
      "needs_background": "light"
     },
     "output_type": "display_data"
    },
    {
     "data": {
      "image/png": "[encoded data removed]",
      "text/plain": [
       "<Figure size 432x288 with 1 Axes>"
      ]
     },
     "metadata": {
      "needs_background": "light"
     },
     "output_type": "display_data"
    }
   ],
   "source": [
    "model_fc = keras.Sequential([\n",
    "    layers.Dense(32, activation=\"relu\",input_shape=(28,28,1)),\n",
    "    layers.Dense(64, activation=\"relu\"),\n",
    "    \n",
    "    layers.Flatten(),\n",
    "    layers.Dense(128, activation=\"relu\"),\n",
    "    layers.Dropout(.25),\n",
    "    layers.Dense(10, activation=\"softmax\")\n",
    "]) \n",
    "model_fc.summary()\n",
    "predict_model(model_fc, [es], epochs=100)"
   ]
  },
  {
   "cell_type": "markdown",
   "metadata": {},
   "source": [
    "### TODO More complex model \n",
    "- demonstrate  the  effects  of  changing  the  number  of layers  (+1)  \n",
    "- the  number  of  units  per  layer  (+1),  learning  with  different  learning  rates  (+1)  \n",
    "- using different  optimization  techniques,  by  providing Accuracy, Precision,  Recall,  F1, and AUC  for  ROC curves for each network. "
   ]
  },
  {
   "cell_type": "markdown",
   "metadata": {},
   "source": [
    "### Basic Multi-layer CNN"
   ]
  },
  {
   "cell_type": "code",
   "execution_count": 24,
   "metadata": {
    "scrolled": false
   },
   "outputs": [
    {
     "name": "stdout",
     "output_type": "stream",
     "text": [
      "Model: \"sequential_8\"\n",
      "_________________________________________________________________\n",
      "Layer (type)                 Output Shape              Param #   \n",
      "=================================================================\n",
      "conv2d_3 (Conv2D)            (None, 26, 26, 32)        320       \n",
      "_________________________________________________________________\n",
      "max_pooling2d_3 (MaxPooling2 (None, 13, 13, 32)        0         \n",
      "_________________________________________________________________\n",
      "conv2d_4 (Conv2D)            (None, 11, 11, 64)        18496     \n",
      "_________________________________________________________________\n",
      "max_pooling2d_4 (MaxPooling2 (None, 5, 5, 64)          0         \n",
      "_________________________________________________________________\n",
      "flatten_5 (Flatten)          (None, 1600)              0         \n",
      "_________________________________________________________________\n",
      "dropout_5 (Dropout)          (None, 1600)              0         \n",
      "_________________________________________________________________\n",
      "dense_27 (Dense)             (None, 10)                16010     \n",
      "=================================================================\n",
      "Total params: 34,826\n",
      "Trainable params: 34,826\n",
      "Non-trainable params: 0\n",
      "_________________________________________________________________\n",
      "Epoch 1/100\n",
      "439/439 [==============================] - 4s 8ms/step - loss: 0.7186 - accuracy: 0.7759 - precision: 0.9031 - recall: 0.6559 - val_loss: 0.0932 - val_accuracy: 0.9720 - val_precision: 0.9773 - val_recall: 0.9672\n",
      "Epoch 2/100\n",
      "439/439 [==============================] - 3s 7ms/step - loss: 0.1196 - accuracy: 0.9636 - precision: 0.9702 - recall: 0.9583 - val_loss: 0.0637 - val_accuracy: 0.9810 - val_precision: 0.9845 - val_recall: 0.9778\n",
      "Epoch 3/100\n",
      "439/439 [==============================] - 3s 7ms/step - loss: 0.0875 - accuracy: 0.9731 - precision: 0.9770 - recall: 0.9695 - val_loss: 0.0536 - val_accuracy: 0.9831 - val_precision: 0.9852 - val_recall: 0.9814\n",
      "Epoch 4/100\n",
      "439/439 [==============================] - 3s 7ms/step - loss: 0.0649 - accuracy: 0.9797 - precision: 0.9822 - recall: 0.9771 - val_loss: 0.0436 - val_accuracy: 0.9866 - val_precision: 0.9886 - val_recall: 0.9860\n",
      "Epoch 5/100\n",
      "439/439 [==============================] - 3s 7ms/step - loss: 0.0609 - accuracy: 0.9807 - precision: 0.9835 - recall: 0.9788 - val_loss: 0.0430 - val_accuracy: 0.9853 - val_precision: 0.9864 - val_recall: 0.9841\n",
      "Epoch 6/100\n",
      "439/439 [==============================] - 3s 7ms/step - loss: 0.0591 - accuracy: 0.9812 - precision: 0.9836 - recall: 0.9795 - val_loss: 0.0375 - val_accuracy: 0.9874 - val_precision: 0.9886 - val_recall: 0.9864\n",
      "Epoch 7/100\n",
      "439/439 [==============================] - 3s 7ms/step - loss: 0.0493 - accuracy: 0.9851 - precision: 0.9869 - recall: 0.9836 - val_loss: 0.0359 - val_accuracy: 0.9877 - val_precision: 0.9889 - val_recall: 0.9872\n",
      "Epoch 8/100\n",
      "439/439 [==============================] - 3s 7ms/step - loss: 0.0468 - accuracy: 0.9850 - precision: 0.9867 - recall: 0.9835 - val_loss: 0.0340 - val_accuracy: 0.9879 - val_precision: 0.9892 - val_recall: 0.9874\n",
      "Epoch 9/100\n",
      "439/439 [==============================] - 3s 7ms/step - loss: 0.0443 - accuracy: 0.9858 - precision: 0.9875 - recall: 0.9847 - val_loss: 0.0363 - val_accuracy: 0.9879 - val_precision: 0.9889 - val_recall: 0.9870\n",
      "Epoch 10/100\n",
      "439/439 [==============================] - 3s 7ms/step - loss: 0.0426 - accuracy: 0.9865 - precision: 0.9876 - recall: 0.9854 - val_loss: 0.0335 - val_accuracy: 0.9890 - val_precision: 0.9899 - val_recall: 0.9883\n",
      "Epoch 11/100\n",
      "439/439 [==============================] - 3s 7ms/step - loss: 0.0355 - accuracy: 0.9888 - precision: 0.9900 - recall: 0.9882 - val_loss: 0.0346 - val_accuracy: 0.9883 - val_precision: 0.9896 - val_recall: 0.9879\n",
      "Epoch 12/100\n",
      "439/439 [==============================] - 3s 7ms/step - loss: 0.0348 - accuracy: 0.9885 - precision: 0.9895 - recall: 0.9876 - val_loss: 0.0332 - val_accuracy: 0.9890 - val_precision: 0.9900 - val_recall: 0.9882\n",
      "Epoch 13/100\n",
      "439/439 [==============================] - 3s 7ms/step - loss: 0.0348 - accuracy: 0.9896 - precision: 0.9905 - recall: 0.9884 - val_loss: 0.0301 - val_accuracy: 0.9906 - val_precision: 0.9915 - val_recall: 0.9900\n",
      "Epoch 14/100\n",
      "439/439 [==============================] - 3s 7ms/step - loss: 0.0325 - accuracy: 0.9894 - precision: 0.9905 - recall: 0.9883 - val_loss: 0.0307 - val_accuracy: 0.9896 - val_precision: 0.9908 - val_recall: 0.9896\n",
      "Epoch 15/100\n",
      "439/439 [==============================] - 3s 8ms/step - loss: 0.0285 - accuracy: 0.9901 - precision: 0.9910 - recall: 0.9892 - val_loss: 0.0289 - val_accuracy: 0.9918 - val_precision: 0.9926 - val_recall: 0.9913\n",
      "Epoch 16/100\n",
      "439/439 [==============================] - 3s 7ms/step - loss: 0.0304 - accuracy: 0.9898 - precision: 0.9908 - recall: 0.9890 - val_loss: 0.0313 - val_accuracy: 0.9893 - val_precision: 0.9902 - val_recall: 0.9892\n",
      "Epoch 17/100\n",
      "439/439 [==============================] - 3s 7ms/step - loss: 0.0313 - accuracy: 0.9898 - precision: 0.9903 - recall: 0.9890 - val_loss: 0.0305 - val_accuracy: 0.9908 - val_precision: 0.9913 - val_recall: 0.9905\n",
      "Epoch 18/100\n",
      "439/439 [==============================] - 3s 7ms/step - loss: 0.0261 - accuracy: 0.9917 - precision: 0.9923 - recall: 0.9908 - val_loss: 0.0304 - val_accuracy: 0.9899 - val_precision: 0.9902 - val_recall: 0.9898\n",
      "Epoch 00018: early stopping\n",
      "Test loss: 0.04150994122028351\n",
      "Test accuracy: 0.9885714054107666\n",
      "Test precision: 0.9887078404426575\n",
      "Test recall: 0.9881428480148315\n",
      "Test f1 score: 0.9885714285714285\n",
      "Test AUC for digit: 0 0.9955977807557447\n",
      "Test AUC for digit: 1 0.995849880349063\n",
      "Test AUC for digit: 2 0.9862574370034174\n",
      "Test AUC for digit: 3 0.9970122917753599\n",
      "Test AUC for digit: 4 0.9936790380015369\n",
      "Test AUC for digit: 5 0.994420081930233\n",
      "Test AUC for digit: 6 0.9982559557604755\n",
      "Test AUC for digit: 7 0.9962065614939049\n",
      "Test AUC for digit: 8 0.9914092625950417\n",
      "Test AUC for digit: 9 0.9877330910240202\n"
     ]
    },
    {
     "data": {
      "image/png": "[encoded data removed]",
      "text/plain": [
       "<Figure size 432x288 with 1 Axes>"
      ]
     },
     "metadata": {
      "needs_background": "light"
     },
     "output_type": "display_data"
    },
    {
     "data": {
      "image/png": "[encoded data removed]",
      "text/plain": [
       "<Figure size 432x288 with 1 Axes>"
      ]
     },
     "metadata": {
      "needs_background": "light"
     },
     "output_type": "display_data"
    }
   ],
   "source": [
    "model = keras.Sequential([\n",
    "    layers.Conv2D(32, (3,3), activation=\"relu\", input_shape=(28,28,1)),\n",
    "    layers.MaxPooling2D (2,2),  \n",
    "    layers.Conv2D(64, (3,3), activation=\"relu\"),\n",
    "    layers.MaxPooling2D (2,2),   \n",
    "\n",
    "    layers.Flatten(),\n",
    "    layers.Dropout(.5),\n",
    "    layers.Dense(10, activation=\"softmax\")\n",
    "])\n",
    "model.summary()\n",
    "#model.compile(optimizer=\"adam\", loss=\"categorical_crossentropy\", metrics=['accuracy'])\n",
    "predict_model(model, [es], epochs=100)"
   ]
  },
  {
   "cell_type": "markdown",
   "metadata": {},
   "source": [
    "### TODO More complex model \n",
    "- demonstrate  the  effects  of  changing  the  number  of layers  (+1)  \n",
    "- the  number  of  units  per  layer  (+1),  learning  with  different  learning  rates  (+1)  \n",
    "- using different  optimization  techniques,  by  providing Accuracy, Precision,  Recall,  F1, and AUC  for  ROC curves for each network. "
   ]
  },
  {
   "cell_type": "markdown",
   "metadata": {},
   "source": [
    "### TODO Demonstrate the effects for different values of dropout"
   ]
  },
  {
   "cell_type": "markdown",
   "metadata": {},
   "source": [
    "## Document the performance of a published network (LeNet5, VGG, Yolo, etc) for recognizing MNIST Digits"
   ]
  },
  {
   "cell_type": "markdown",
   "metadata": {},
   "source": [
    "### LeNet5"
   ]
  },
  {
   "cell_type": "code",
   "execution_count": 28,
   "metadata": {
    "scrolled": false
   },
   "outputs": [
    {
     "name": "stdout",
     "output_type": "stream",
     "text": [
      "Model: \"sequential_10\"\n",
      "_________________________________________________________________\n",
      "Layer (type)                 Output Shape              Param #   \n",
      "=================================================================\n",
      "conv2d_7 (Conv2D)            (None, 26, 26, 6)         60        \n",
      "_________________________________________________________________\n",
      "average_pooling2d_2 (Average (None, 13, 13, 6)         0         \n",
      "_________________________________________________________________\n",
      "conv2d_8 (Conv2D)            (None, 11, 11, 16)        880       \n",
      "_________________________________________________________________\n",
      "average_pooling2d_3 (Average (None, 5, 5, 16)          0         \n",
      "_________________________________________________________________\n",
      "flatten_7 (Flatten)          (None, 400)               0         \n",
      "_________________________________________________________________\n",
      "dense_31 (Dense)             (None, 120)               48120     \n",
      "_________________________________________________________________\n",
      "dense_32 (Dense)             (None, 84)                10164     \n",
      "_________________________________________________________________\n",
      "dense_33 (Dense)             (None, 10)                850       \n",
      "=================================================================\n",
      "Total params: 60,074\n",
      "Trainable params: 60,074\n",
      "Non-trainable params: 0\n",
      "_________________________________________________________________\n",
      "Epoch 1/100\n",
      "439/439 [==============================] - 4s 8ms/step - loss: 0.8742 - accuracy: 0.7542 - precision: 0.8642 - recall: 0.5917 - val_loss: 0.1788 - val_accuracy: 0.9466 - val_precision: 0.9564 - val_recall: 0.9361\n",
      "Epoch 2/100\n",
      "439/439 [==============================] - 3s 7ms/step - loss: 0.1533 - accuracy: 0.9543 - precision: 0.9630 - recall: 0.9459 - val_loss: 0.0988 - val_accuracy: 0.9693 - val_precision: 0.9755 - val_recall: 0.9644\n",
      "Epoch 3/100\n",
      "439/439 [==============================] - 3s 7ms/step - loss: 0.0878 - accuracy: 0.9727 - precision: 0.9774 - recall: 0.9698 - val_loss: 0.0783 - val_accuracy: 0.9771 - val_precision: 0.9808 - val_recall: 0.9739\n",
      "Epoch 4/100\n",
      "439/439 [==============================] - 3s 7ms/step - loss: 0.0668 - accuracy: 0.9798 - precision: 0.9825 - recall: 0.9775 - val_loss: 0.0637 - val_accuracy: 0.9795 - val_precision: 0.9826 - val_recall: 0.9776\n",
      "Epoch 5/100\n",
      "439/439 [==============================] - 3s 7ms/step - loss: 0.0531 - accuracy: 0.9836 - precision: 0.9857 - recall: 0.9820 - val_loss: 0.0546 - val_accuracy: 0.9825 - val_precision: 0.9845 - val_recall: 0.9811\n",
      "Epoch 6/100\n",
      "439/439 [==============================] - 3s 7ms/step - loss: 0.0471 - accuracy: 0.9847 - precision: 0.9871 - recall: 0.9832 - val_loss: 0.0475 - val_accuracy: 0.9854 - val_precision: 0.9867 - val_recall: 0.9837\n",
      "Epoch 7/100\n",
      "439/439 [==============================] - 3s 7ms/step - loss: 0.0371 - accuracy: 0.9879 - precision: 0.9892 - recall: 0.9869 - val_loss: 0.0521 - val_accuracy: 0.9840 - val_precision: 0.9852 - val_recall: 0.9827\n",
      "Epoch 8/100\n",
      "439/439 [==============================] - 3s 7ms/step - loss: 0.0395 - accuracy: 0.9870 - precision: 0.9883 - recall: 0.9860 - val_loss: 0.0473 - val_accuracy: 0.9860 - val_precision: 0.9873 - val_recall: 0.9841\n",
      "Epoch 9/100\n",
      "439/439 [==============================] - 3s 7ms/step - loss: 0.0306 - accuracy: 0.9903 - precision: 0.9914 - recall: 0.9893 - val_loss: 0.0530 - val_accuracy: 0.9827 - val_precision: 0.9842 - val_recall: 0.9817\n",
      "Epoch 10/100\n",
      "439/439 [==============================] - 3s 7ms/step - loss: 0.0367 - accuracy: 0.9881 - precision: 0.9895 - recall: 0.9866 - val_loss: 0.0460 - val_accuracy: 0.9859 - val_precision: 0.9871 - val_recall: 0.9848\n",
      "Epoch 11/100\n",
      "439/439 [==============================] - 3s 7ms/step - loss: 0.0237 - accuracy: 0.9923 - precision: 0.9930 - recall: 0.9915 - val_loss: 0.0374 - val_accuracy: 0.9877 - val_precision: 0.9887 - val_recall: 0.9876\n",
      "Epoch 12/100\n",
      "439/439 [==============================] - 3s 7ms/step - loss: 0.0216 - accuracy: 0.9931 - precision: 0.9937 - recall: 0.9925 - val_loss: 0.0486 - val_accuracy: 0.9854 - val_precision: 0.9868 - val_recall: 0.9851\n",
      "Epoch 13/100\n",
      "439/439 [==============================] - 3s 7ms/step - loss: 0.0205 - accuracy: 0.9934 - precision: 0.9941 - recall: 0.9930 - val_loss: 0.0394 - val_accuracy: 0.9882 - val_precision: 0.9892 - val_recall: 0.9872\n",
      "Epoch 14/100\n",
      "439/439 [==============================] - 3s 7ms/step - loss: 0.0166 - accuracy: 0.9947 - precision: 0.9951 - recall: 0.9942 - val_loss: 0.0402 - val_accuracy: 0.9882 - val_precision: 0.9890 - val_recall: 0.9876\n",
      "Epoch 15/100\n",
      "439/439 [==============================] - 3s 7ms/step - loss: 0.0153 - accuracy: 0.9947 - precision: 0.9953 - recall: 0.9944 - val_loss: 0.0380 - val_accuracy: 0.9899 - val_precision: 0.9902 - val_recall: 0.9895\n",
      "Epoch 16/100\n",
      "439/439 [==============================] - 3s 7ms/step - loss: 0.0139 - accuracy: 0.9955 - precision: 0.9958 - recall: 0.9953 - val_loss: 0.0443 - val_accuracy: 0.9872 - val_precision: 0.9883 - val_recall: 0.9872\n",
      "Epoch 17/100\n",
      "439/439 [==============================] - 3s 7ms/step - loss: 0.0155 - accuracy: 0.9949 - precision: 0.9954 - recall: 0.9945 - val_loss: 0.0359 - val_accuracy: 0.9900 - val_precision: 0.9905 - val_recall: 0.9895\n",
      "Epoch 18/100\n",
      "439/439 [==============================] - 3s 7ms/step - loss: 0.0115 - accuracy: 0.9963 - precision: 0.9965 - recall: 0.9961 - val_loss: 0.0386 - val_accuracy: 0.9896 - val_precision: 0.9900 - val_recall: 0.9893\n",
      "Epoch 19/100\n",
      "439/439 [==============================] - 3s 7ms/step - loss: 0.0103 - accuracy: 0.9967 - precision: 0.9968 - recall: 0.9965 - val_loss: 0.0418 - val_accuracy: 0.9890 - val_precision: 0.9895 - val_recall: 0.9887\n",
      "Epoch 20/100\n",
      "439/439 [==============================] - 3s 7ms/step - loss: 0.0093 - accuracy: 0.9969 - precision: 0.9970 - recall: 0.9967 - val_loss: 0.0424 - val_accuracy: 0.9889 - val_precision: 0.9893 - val_recall: 0.9879\n",
      "Epoch 00020: early stopping\n",
      "Test loss: 0.058229099959135056\n",
      "Test accuracy: 0.9857142567634583\n",
      "Test precision: 0.986699104309082\n",
      "Test recall: 0.9855714440345764\n",
      "Test f1 score: 0.9857142857142858\n",
      "Test AUC for digit: 0 0.9919812309018102\n",
      "Test AUC for digit: 1 0.993308771156694\n",
      "Test AUC for digit: 2 0.9886222565571703\n",
      "Test AUC for digit: 3 0.9954690114360585\n",
      "Test AUC for digit: 4 0.986050743965476\n",
      "Test AUC for digit: 5 0.9873922485096758\n",
      "Test AUC for digit: 6 0.9974621789705089\n",
      "Test AUC for digit: 7 0.9957267150447686\n",
      "Test AUC for digit: 8 0.9923867860609057\n",
      "Test AUC for digit: 9 0.9920393489254108\n"
     ]
    },
    {
     "data": {
      "image/png": "[encoded data removed]",
      "text/plain": [
       "<Figure size 432x288 with 1 Axes>"
      ]
     },
     "metadata": {
      "needs_background": "light"
     },
     "output_type": "display_data"
    },
    {
     "data": {
      "image/png": "[encoded data removed]",
      "text/plain": [
       "<Figure size 432x288 with 1 Axes>"
      ]
     },
     "metadata": {
      "needs_background": "light"
     },
     "output_type": "display_data"
    }
   ],
   "source": [
    "lenet5 = keras.Sequential([\n",
    "    layers.Conv2D(filters=6, kernel_size=(3, 3), activation='relu', input_shape=(28,28,1)),\n",
    "    layers.AveragePooling2D(),\n",
    "    \n",
    "    layers.Conv2D(filters=16, kernel_size=(3, 3), activation='relu'),\n",
    "    layers.AveragePooling2D(),\n",
    "    \n",
    "    layers.Flatten(),\n",
    "    \n",
    "    layers.Dense(units=120, activation='relu'),\n",
    "    layers.Dense(units=84, activation='relu'),\n",
    "    layers.Dense(units=10, activation='softmax')\n",
    "])\n",
    "\n",
    "lenet5.summary()\n",
    "predict_model(lenet5, [es], epochs=100)"
   ]
  },
  {
   "cell_type": "markdown",
   "metadata": {},
   "source": [
    "### TODO Use your best network to build a real time system to recognize your own hand written digits"
   ]
  },
  {
   "cell_type": "markdown",
   "metadata": {},
   "source": [
    "### SHAP Explainer\n",
    "https://shap-lrjball.readthedocs.io/en/latest/example_notebooks/deep_explainer/Front%20Page%20DeepExplainer%20MNIST%20Example.html"
   ]
  },
  {
   "cell_type": "code",
   "execution_count": 71,
   "metadata": {},
   "outputs": [],
   "source": [
    "import shap\n",
    "import numpy as np"
   ]
  },
  {
   "cell_type": "code",
   "execution_count": null,
   "metadata": {},
   "outputs": [],
   "source": []
  }
 ],
 "metadata": {
  "kernelspec": {
   "display_name": "Python 3",
   "language": "python",
   "name": "python3"
  },
  "language_info": {
   "codemirror_mode": {
    "name": "ipython",
    "version": 3
   },
   "file_extension": ".py",
   "mimetype": "text/x-python",
   "name": "python",
   "nbconvert_exporter": "python",
   "pygments_lexer": "ipython3",
   "version": "3.7.10"
  }
 },
 "nbformat": 4,
 "nbformat_minor": 4
}
